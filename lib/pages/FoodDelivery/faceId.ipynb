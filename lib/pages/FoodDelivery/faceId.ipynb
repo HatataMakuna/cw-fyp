{
 "cells": [
  {
   "cell_type": "code",
   "execution_count": 18,
   "metadata": {},
   "outputs": [
    {
     "ename": "FileNotFoundError",
     "evalue": "[WinError 3] The system cannot find the path specified: '../input/haarcascade-frontal-faces'",
     "output_type": "error",
     "traceback": [
      "\u001b[1;31m---------------------------------------------------------------------------\u001b[0m",
      "\u001b[1;31mFileNotFoundError\u001b[0m                         Traceback (most recent call last)",
      "\u001b[1;32mc:\\Users\\User\\Downloads\\FYP(TAN)\\jommakan\\lib\\pages\\FoodDelivery\\faceId.ipynb Cell 1\u001b[0m line \u001b[0;36m1\n\u001b[0;32m     <a href='vscode-notebook-cell:/c%3A/Users/User/Downloads/FYP%28TAN%29/jommakan/lib/pages/FoodDelivery/faceId.ipynb#W5sZmlsZQ%3D%3D?line=12'>13</a>\u001b[0m \u001b[39m#systems\u001b[39;00m\n\u001b[0;32m     <a href='vscode-notebook-cell:/c%3A/Users/User/Downloads/FYP%28TAN%29/jommakan/lib/pages/FoodDelivery/faceId.ipynb#W5sZmlsZQ%3D%3D?line=13'>14</a>\u001b[0m \u001b[39mimport\u001b[39;00m \u001b[39mos\u001b[39;00m\n\u001b[1;32m---> <a href='vscode-notebook-cell:/c%3A/Users/User/Downloads/FYP%28TAN%29/jommakan/lib/pages/FoodDelivery/faceId.ipynb#W5sZmlsZQ%3D%3D?line=14'>15</a>\u001b[0m \u001b[39mprint\u001b[39m(os\u001b[39m.\u001b[39;49mlistdir(\u001b[39m\"\u001b[39;49m\u001b[39m../input/haarcascade-frontal-faces\u001b[39;49m\u001b[39m\"\u001b[39;49m))\n\u001b[0;32m     <a href='vscode-notebook-cell:/c%3A/Users/User/Downloads/FYP%28TAN%29/jommakan/lib/pages/FoodDelivery/faceId.ipynb#W5sZmlsZQ%3D%3D?line=15'>16</a>\u001b[0m \u001b[39mprint\u001b[39m(os\u001b[39m.\u001b[39mlistdir(\u001b[39m\"\u001b[39m\u001b[39m../input/lfwpeople\u001b[39m\u001b[39m\"\u001b[39m))\n",
      "\u001b[1;31mFileNotFoundError\u001b[0m: [WinError 3] The system cannot find the path specified: '../input/haarcascade-frontal-faces'"
     ]
    }
   ],
   "source": [
    "import numpy as np # linear algebra\n",
    "import pandas as pd # data processing, CSV file I/O (e.g. pd.read_csv)\n",
    "\n",
    "#Visiulazation\n",
    "import matplotlib.pyplot as plt\n",
    "\n",
    "#image processing\n",
    "import cv2\n",
    "\n",
    "#extracting zippped file\n",
    "import tarfile\n",
    "\n",
    "#systems\n",
    "import os\n",
    "print(os.listdir(\"../input/haarcascade-frontal-faces\"))\n",
    "print(os.listdir(\"../input/lfwpeople\"))"
   ]
  },
  {
   "cell_type": "code",
   "execution_count": 17,
   "metadata": {},
   "outputs": [],
   "source": [
    "class FaceDetector():\n",
    "\n",
    "    def __init__(self,faceCascadePath):\n",
    "        self.faceCascade=cv2.CascadeClassifier(faceCascadePath)\n",
    "\n",
    "\n",
    "    def detect(self, image, scaleFactor=1.1,\n",
    "               minNeighbors=5,\n",
    "               minSize=(30,30)):\n",
    "        \n",
    "        #function return rectangle coordinates of faces for given image\n",
    "        rects=self.faceCascade.detectMultiScale(image,\n",
    "                                                scaleFactor=scaleFactor,\n",
    "                                                minNeighbors=minNeighbors,\n",
    "                                                minSize=minSize)\n",
    "        return rects"
   ]
  },
  {
   "cell_type": "code",
   "execution_count": 8,
   "metadata": {},
   "outputs": [],
   "source": [
    "import cv2\n",
    "\n",
    "# Your existing code\n",
    "frontal_cascade_path = \"../input/haarcascade-frontal-faces/haarcascade_frontalface_default.xml\"\n",
    "\n",
    "# Define the FaceDetector class\n",
    "class FaceDetector:\n",
    "    def __init__(self, faceCascadePath):\n",
    "        self.faceCascade = cv2.CascadeClassifier(faceCascadePath)\n",
    "\n",
    "    # Add other methods as needed\n",
    "\n",
    "# Create an instance of the FaceDetector class\n",
    "fd = FaceDetector(frontal_cascade_path)\n"
   ]
  },
  {
   "cell_type": "code",
   "execution_count": 9,
   "metadata": {},
   "outputs": [],
   "source": [
    "#An image contains faces, loaded\n",
    "national_team_org=cv2.imread(\"../input/haarcascade-frontal-faces/millitakim-isvecmaci.jpg\")"
   ]
  },
  {
   "cell_type": "code",
   "execution_count": 16,
   "metadata": {},
   "outputs": [],
   "source": [
    "def get_national_team():\n",
    "    return np.copy(national_team_org)\n",
    "\n",
    "def show_image(image):\n",
    "    plt.figure(figsize=(18,15))\n",
    "    #Before showing image, bgr color order transformed to rgb order\n",
    "    plt.imshow(cv2.cvtColor(image, cv2.COLOR_BGR2RGB))\n",
    "    plt.xticks([])\n",
    "    plt.yticks([])\n",
    "    plt.show()"
   ]
  }
 ],
 "metadata": {
  "kernelspec": {
   "display_name": "Python 3",
   "language": "python",
   "name": "python3"
  },
  "language_info": {
   "codemirror_mode": {
    "name": "ipython",
    "version": 3
   },
   "file_extension": ".py",
   "mimetype": "text/x-python",
   "name": "python",
   "nbconvert_exporter": "python",
   "pygments_lexer": "ipython3",
   "version": "3.11.6"
  }
 },
 "nbformat": 4,
 "nbformat_minor": 2
}
