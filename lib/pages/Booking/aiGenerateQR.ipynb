{
 "cells": [
  {
   "cell_type": "code",
   "execution_count": 1,
   "metadata": {},
   "outputs": [
    {
     "name": "stdout",
     "output_type": "stream",
     "text": [
      "^C\n",
      "Note: you may need to restart the kernel to use updated packages.\n"
     ]
    }
   ],
   "source": [
    "pip install Flask qrcode[pil]\n"
   ]
  },
  {
   "cell_type": "code",
   "execution_count": 1,
   "metadata": {},
   "outputs": [
    {
     "name": "stdout",
     "output_type": "stream",
     "text": [
      " * Serving Flask app '__main__'\n",
      " * Debug mode: off\n"
     ]
    },
    {
     "name": "stderr",
     "output_type": "stream",
     "text": [
      "WARNING: This is a development server. Do not use it in a production deployment. Use a production WSGI server instead.\n",
      " * Running on all addresses (0.0.0.0)\n",
      " * Running on http://127.0.0.1:5000\n",
      " * Running on http://192.168.100.9:5000\n",
      "Press CTRL+C to quit\n"
     ]
    },
    {
     "name": "stdout",
     "output_type": "stream",
     "text": [
      "Received data: [{'text': 'Welcome To JomMakan Seating', 'rowI': 2, 'colI': 1}, {'text': 'Welcome To JomMakan Seating', 'rowI': 3, 'colI': 2}]\n",
      "Received data2: [{'text': 'Welcome To JomMakan Seating', 'rowI': 2, 'colI': 1}, {'text': 'Welcome To JomMakan Seating', 'rowI': 3, 'colI': 2}]\n"
     ]
    },
    {
     "name": "stderr",
     "output_type": "stream",
     "text": [
      "127.0.0.1 - - [01/Dec/2023 12:04:37] \"POST /generate_qr HTTP/1.1\" 200 -\n",
      "127.0.0.1 - - [01/Dec/2023 12:06:59] \"POST /generate_qr HTTP/1.1\" 200 -\n"
     ]
    },
    {
     "name": "stdout",
     "output_type": "stream",
     "text": [
      "Received data: [{'text': 'Welcome To JomMakan Seating', 'rowI': 1, 'colI': 2}, {'text': 'Welcome To JomMakan Seating', 'rowI': 8, 'colI': 4}]\n",
      "Received data2: [{'text': 'Welcome To JomMakan Seating', 'rowI': 1, 'colI': 2}, {'text': 'Welcome To JomMakan Seating', 'rowI': 8, 'colI': 4}]\n"
     ]
    },
    {
     "name": "stderr",
     "output_type": "stream",
     "text": [
      "127.0.0.1 - - [01/Dec/2023 12:07:45] \"POST /generate_qr HTTP/1.1\" 200 -\n"
     ]
    },
    {
     "name": "stdout",
     "output_type": "stream",
     "text": [
      "Received data: [{'text': 'Welcome To JomMakan Seating', 'rowI': 1, 'colI': 2}]\n",
      "Received data2: [{'text': 'Welcome To JomMakan Seating', 'rowI': 1, 'colI': 2}]\n"
     ]
    },
    {
     "name": "stderr",
     "output_type": "stream",
     "text": [
      "127.0.0.1 - - [01/Dec/2023 12:18:26] \"POST /generate_qr HTTP/1.1\" 200 -\n"
     ]
    },
    {
     "name": "stdout",
     "output_type": "stream",
     "text": [
      "Received data: [{'text': 'Welcome To JomMakan Seating', 'rowI': 2, 'colI': 2}]\n",
      "Received data2: [{'text': 'Welcome To JomMakan Seating', 'rowI': 2, 'colI': 2}]\n"
     ]
    },
    {
     "name": "stderr",
     "output_type": "stream",
     "text": [
      "127.0.0.1 - - [01/Dec/2023 13:01:05] \"POST /generate_qr HTTP/1.1\" 200 -\n"
     ]
    },
    {
     "name": "stdout",
     "output_type": "stream",
     "text": [
      "Received data: [{'text': 'Welcome To JomMakan Seating', 'rowI': 1, 'colI': 5}]\n",
      "Received data2: [{'text': 'Welcome To JomMakan Seating', 'rowI': 1, 'colI': 5}]\n"
     ]
    },
    {
     "name": "stderr",
     "output_type": "stream",
     "text": [
      "127.0.0.1 - - [01/Dec/2023 13:01:50] \"POST /generate_qr HTTP/1.1\" 200 -\n"
     ]
    },
    {
     "name": "stdout",
     "output_type": "stream",
     "text": [
      "Received data: [{'text': 'Welcome To JomMakan Seating', 'rowI': 1, 'colI': 5}, {'text': 'Welcome To JomMakan Seating', 'rowI': 9, 'colI': 6}]\n",
      "Received data2: [{'text': 'Welcome To JomMakan Seating', 'rowI': 1, 'colI': 5}, {'text': 'Welcome To JomMakan Seating', 'rowI': 9, 'colI': 6}]\n"
     ]
    },
    {
     "name": "stderr",
     "output_type": "stream",
     "text": [
      "127.0.0.1 - - [01/Dec/2023 13:05:36] \"POST /generate_qr HTTP/1.1\" 200 -\n"
     ]
    },
    {
     "name": "stdout",
     "output_type": "stream",
     "text": [
      "Received data: [{'text': 'Welcome To JomMakan Seating', 'rowI': 3, 'colI': 6}]\n",
      "Received data2: [{'text': 'Welcome To JomMakan Seating', 'rowI': 3, 'colI': 6}]\n"
     ]
    },
    {
     "name": "stderr",
     "output_type": "stream",
     "text": [
      "127.0.0.1 - - [01/Dec/2023 13:08:54] \"POST /generate_qr HTTP/1.1\" 200 -\n"
     ]
    },
    {
     "name": "stdout",
     "output_type": "stream",
     "text": [
      "Received data: [{'text': 'Welcome To JomMakan Seating', 'rowI': 3, 'colI': 5}]\n",
      "Received data2: [{'text': 'Welcome To JomMakan Seating', 'rowI': 3, 'colI': 5}]\n"
     ]
    },
    {
     "name": "stderr",
     "output_type": "stream",
     "text": [
      "127.0.0.1 - - [01/Dec/2023 13:10:15] \"POST /generate_qr HTTP/1.1\" 200 -\n"
     ]
    },
    {
     "name": "stdout",
     "output_type": "stream",
     "text": [
      "Received data: [{'text': 'Welcome To JomMakan Seating', 'rowI': 5, 'colI': 6}]\n",
      "Received data2: [{'text': 'Welcome To JomMakan Seating', 'rowI': 5, 'colI': 6}]\n"
     ]
    },
    {
     "name": "stderr",
     "output_type": "stream",
     "text": [
      "127.0.0.1 - - [01/Dec/2023 13:11:37] \"POST /generate_qr HTTP/1.1\" 200 -\n"
     ]
    },
    {
     "name": "stdout",
     "output_type": "stream",
     "text": [
      "Received data: [{'text': 'Welcome To JomMakan Seating', 'rowI': 6, 'colI': 5}]\n",
      "Received data2: [{'text': 'Welcome To JomMakan Seating', 'rowI': 6, 'colI': 5}]\n"
     ]
    },
    {
     "name": "stderr",
     "output_type": "stream",
     "text": [
      "127.0.0.1 - - [01/Dec/2023 13:34:13] \"POST /generate_qr HTTP/1.1\" 200 -\n"
     ]
    },
    {
     "name": "stdout",
     "output_type": "stream",
     "text": [
      "Received data: [{'text': 'Welcome To JomMakan Seating', 'rowI': 3, 'colI': 4}]\n",
      "Received data2: [{'text': 'Welcome To JomMakan Seating', 'rowI': 3, 'colI': 4}]\n"
     ]
    },
    {
     "name": "stderr",
     "output_type": "stream",
     "text": [
      "127.0.0.1 - - [01/Dec/2023 13:40:07] \"POST /generate_qr HTTP/1.1\" 200 -\n"
     ]
    },
    {
     "name": "stdout",
     "output_type": "stream",
     "text": [
      "Received data: [{'text': 'Welcome To JomMakan Seating', 'rowI': 5, 'colI': 6}]\n",
      "Received data2: [{'text': 'Welcome To JomMakan Seating', 'rowI': 5, 'colI': 6}]\n"
     ]
    },
    {
     "name": "stderr",
     "output_type": "stream",
     "text": [
      "127.0.0.1 - - [01/Dec/2023 13:41:08] \"POST /generate_qr HTTP/1.1\" 200 -\n"
     ]
    },
    {
     "name": "stdout",
     "output_type": "stream",
     "text": [
      "Received data: [{'text': 'Welcome To JomMakan Seating', 'rowI': 3, 'colI': 6}]\n",
      "Received data2: [{'text': 'Welcome To JomMakan Seating', 'rowI': 3, 'colI': 6}]\n"
     ]
    },
    {
     "name": "stderr",
     "output_type": "stream",
     "text": [
      "127.0.0.1 - - [01/Dec/2023 14:10:34] \"POST /generate_qr HTTP/1.1\" 200 -\n"
     ]
    },
    {
     "name": "stdout",
     "output_type": "stream",
     "text": [
      "Received data: [{'text': 'Welcome To JomMakan Seating', 'rowI': 3, 'colI': 6}]\n",
      "Received data2: [{'text': 'Welcome To JomMakan Seating', 'rowI': 3, 'colI': 6}]\n"
     ]
    },
    {
     "name": "stderr",
     "output_type": "stream",
     "text": [
      "127.0.0.1 - - [01/Dec/2023 14:15:07] \"POST /generate_qr HTTP/1.1\" 200 -\n"
     ]
    },
    {
     "name": "stdout",
     "output_type": "stream",
     "text": [
      "Received data: [{'text': 'Welcome To JomMakan Seating', 'rowI': 5, 'colI': 5}]\n",
      "Received data2: [{'text': 'Welcome To JomMakan Seating', 'rowI': 5, 'colI': 5}]\n"
     ]
    },
    {
     "name": "stderr",
     "output_type": "stream",
     "text": [
      "127.0.0.1 - - [01/Dec/2023 14:22:58] \"POST /generate_qr HTTP/1.1\" 200 -\n"
     ]
    },
    {
     "name": "stdout",
     "output_type": "stream",
     "text": [
      "Received data: [{'text': 'Welcome To JomMakan Seating', 'rowI': 3, 'colI': 5}]\n",
      "Received data2: [{'text': 'Welcome To JomMakan Seating', 'rowI': 3, 'colI': 5}]\n"
     ]
    },
    {
     "name": "stderr",
     "output_type": "stream",
     "text": [
      "127.0.0.1 - - [01/Dec/2023 14:34:03] \"POST /generate_qr HTTP/1.1\" 200 -\n"
     ]
    },
    {
     "name": "stdout",
     "output_type": "stream",
     "text": [
      "Received data: [{'text': 'Welcome To JomMakan Seating', 'rowI': 5, 'colI': 5}]\n",
      "Received data2: [{'text': 'Welcome To JomMakan Seating', 'rowI': 5, 'colI': 5}]\n"
     ]
    },
    {
     "name": "stderr",
     "output_type": "stream",
     "text": [
      "127.0.0.1 - - [01/Dec/2023 14:35:26] \"POST /generate_qr HTTP/1.1\" 200 -\n"
     ]
    },
    {
     "name": "stdout",
     "output_type": "stream",
     "text": [
      "Received data: [{'text': 'Welcome To JomMakan Seating', 'rowI': 5, 'colI': 5}]\n",
      "Received data2: [{'text': 'Welcome To JomMakan Seating', 'rowI': 5, 'colI': 5}]\n"
     ]
    },
    {
     "name": "stderr",
     "output_type": "stream",
     "text": [
      "127.0.0.1 - - [01/Dec/2023 14:39:39] \"POST /generate_qr HTTP/1.1\" 200 -\n"
     ]
    },
    {
     "name": "stdout",
     "output_type": "stream",
     "text": [
      "Received data: [{'text': 'Welcome To JomMakan Seating', 'rowI': 5, 'colI': 5}]\n",
      "Received data2: [{'text': 'Welcome To JomMakan Seating', 'rowI': 5, 'colI': 5}]\n"
     ]
    },
    {
     "name": "stderr",
     "output_type": "stream",
     "text": [
      "127.0.0.1 - - [01/Dec/2023 14:43:14] \"POST /generate_qr HTTP/1.1\" 200 -\n"
     ]
    },
    {
     "name": "stdout",
     "output_type": "stream",
     "text": [
      "Received data: [{'text': 'Welcome To JomMakan Seating', 'rowI': 5, 'colI': 5}]\n",
      "Received data2: [{'text': 'Welcome To JomMakan Seating', 'rowI': 5, 'colI': 5}]\n"
     ]
    },
    {
     "name": "stderr",
     "output_type": "stream",
     "text": [
      "127.0.0.1 - - [01/Dec/2023 14:44:05] \"POST /generate_qr HTTP/1.1\" 200 -\n"
     ]
    },
    {
     "name": "stdout",
     "output_type": "stream",
     "text": [
      "Received data: [{'text': 'Welcome To JomMakan Seating', 'rowI': 5, 'colI': 5}]\n",
      "Received data2: [{'text': 'Welcome To JomMakan Seating', 'rowI': 5, 'colI': 5}]\n"
     ]
    },
    {
     "name": "stderr",
     "output_type": "stream",
     "text": [
      "127.0.0.1 - - [01/Dec/2023 14:47:10] \"POST /generate_qr HTTP/1.1\" 200 -\n"
     ]
    },
    {
     "name": "stdout",
     "output_type": "stream",
     "text": [
      "Received data: [{'text': 'Welcome To JomMakan Seating', 'rowI': 5, 'colI': 5}]\n",
      "Received data2: [{'text': 'Welcome To JomMakan Seating', 'rowI': 5, 'colI': 5}]\n"
     ]
    },
    {
     "name": "stderr",
     "output_type": "stream",
     "text": [
      "127.0.0.1 - - [01/Dec/2023 14:50:27] \"POST /generate_qr HTTP/1.1\" 200 -\n"
     ]
    },
    {
     "name": "stdout",
     "output_type": "stream",
     "text": [
      "Received data: [{'text': 'Welcome To JomMakan Seating', 'rowI': 5, 'colI': 5}]\n",
      "Received data2: [{'text': 'Welcome To JomMakan Seating', 'rowI': 5, 'colI': 5}]\n"
     ]
    },
    {
     "name": "stderr",
     "output_type": "stream",
     "text": [
      "127.0.0.1 - - [01/Dec/2023 14:55:01] \"POST /generate_qr HTTP/1.1\" 200 -\n"
     ]
    },
    {
     "name": "stdout",
     "output_type": "stream",
     "text": [
      "Received data: [{'text': 'Welcome To JomMakan Seating', 'rowI': 5, 'colI': 5}]\n",
      "Received data2: [{'text': 'Welcome To JomMakan Seating', 'rowI': 5, 'colI': 5}]\n"
     ]
    },
    {
     "name": "stderr",
     "output_type": "stream",
     "text": [
      "127.0.0.1 - - [01/Dec/2023 14:55:56] \"POST /generate_qr HTTP/1.1\" 200 -\n"
     ]
    },
    {
     "name": "stdout",
     "output_type": "stream",
     "text": [
      "Received data: [{'text': 'Welcome To JomMakan Seating', 'rowI': 4, 'colI': 4}]\n",
      "Received data2: [{'text': 'Welcome To JomMakan Seating', 'rowI': 4, 'colI': 4}]\n"
     ]
    },
    {
     "name": "stderr",
     "output_type": "stream",
     "text": [
      "127.0.0.1 - - [01/Dec/2023 15:00:06] \"POST /generate_qr HTTP/1.1\" 200 -\n"
     ]
    },
    {
     "name": "stdout",
     "output_type": "stream",
     "text": [
      "Received data: [{'text': 'Welcome To JomMakan Seating', 'rowI': 4, 'colI': 4}]\n",
      "Received data2: [{'text': 'Welcome To JomMakan Seating', 'rowI': 4, 'colI': 4}]\n"
     ]
    },
    {
     "name": "stderr",
     "output_type": "stream",
     "text": [
      "127.0.0.1 - - [01/Dec/2023 15:01:12] \"POST /generate_qr HTTP/1.1\" 200 -\n"
     ]
    },
    {
     "name": "stdout",
     "output_type": "stream",
     "text": [
      "Received data: [{'text': 'Welcome To JomMakan Seating', 'rowI': 5, 'colI': 4}]\n",
      "Received data2: [{'text': 'Welcome To JomMakan Seating', 'rowI': 5, 'colI': 4}]\n"
     ]
    },
    {
     "name": "stderr",
     "output_type": "stream",
     "text": [
      "127.0.0.1 - - [01/Dec/2023 15:07:16] \"POST /generate_qr HTTP/1.1\" 200 -\n"
     ]
    },
    {
     "name": "stdout",
     "output_type": "stream",
     "text": [
      "Received data: [{'text': 'Welcome To JomMakan Seating', 'rowI': 3, 'colI': 5}]\n",
      "Received data2: [{'text': 'Welcome To JomMakan Seating', 'rowI': 3, 'colI': 5}]\n"
     ]
    },
    {
     "name": "stderr",
     "output_type": "stream",
     "text": [
      "127.0.0.1 - - [01/Dec/2023 15:08:01] \"POST /generate_qr HTTP/1.1\" 200 -\n"
     ]
    },
    {
     "name": "stdout",
     "output_type": "stream",
     "text": [
      "Received data: [{'text': 'Welcome To JomMakan Seating', 'rowI': 5, 'colI': 5}]\n",
      "Received data2: [{'text': 'Welcome To JomMakan Seating', 'rowI': 5, 'colI': 5}]\n"
     ]
    },
    {
     "name": "stderr",
     "output_type": "stream",
     "text": [
      "127.0.0.1 - - [01/Dec/2023 15:10:14] \"POST /generate_qr HTTP/1.1\" 200 -\n"
     ]
    },
    {
     "name": "stdout",
     "output_type": "stream",
     "text": [
      "Received data: [{'text': 'Welcome To JomMakan Seating', 'rowI': 5, 'colI': 5}]\n",
      "Received data2: [{'text': 'Welcome To JomMakan Seating', 'rowI': 5, 'colI': 5}]\n"
     ]
    },
    {
     "name": "stderr",
     "output_type": "stream",
     "text": [
      "127.0.0.1 - - [01/Dec/2023 15:11:33] \"POST /generate_qr HTTP/1.1\" 200 -\n"
     ]
    },
    {
     "name": "stdout",
     "output_type": "stream",
     "text": [
      "Received data: [{'text': 'Welcome To JomMakan Seating', 'rowI': 5, 'colI': 5}]\n",
      "Received data2: [{'text': 'Welcome To JomMakan Seating', 'rowI': 5, 'colI': 5}]\n"
     ]
    },
    {
     "name": "stderr",
     "output_type": "stream",
     "text": [
      "127.0.0.1 - - [01/Dec/2023 15:16:17] \"POST /generate_qr HTTP/1.1\" 200 -\n"
     ]
    },
    {
     "name": "stdout",
     "output_type": "stream",
     "text": [
      "Received data: [{'text': 'Welcome To JomMakan Seating', 'rowI': 5, 'colI': 5}]\n",
      "Received data2: [{'text': 'Welcome To JomMakan Seating', 'rowI': 5, 'colI': 5}]\n"
     ]
    },
    {
     "name": "stderr",
     "output_type": "stream",
     "text": [
      "127.0.0.1 - - [01/Dec/2023 15:18:33] \"POST /generate_qr HTTP/1.1\" 200 -\n"
     ]
    },
    {
     "name": "stdout",
     "output_type": "stream",
     "text": [
      "Received data: [{'text': 'Welcome To JomMakan Seating', 'rowI': 5, 'colI': 5}]\n",
      "Received data2: [{'text': 'Welcome To JomMakan Seating', 'rowI': 5, 'colI': 5}]\n"
     ]
    },
    {
     "name": "stderr",
     "output_type": "stream",
     "text": [
      "127.0.0.1 - - [01/Dec/2023 15:19:40] \"POST /generate_qr HTTP/1.1\" 200 -\n"
     ]
    },
    {
     "name": "stdout",
     "output_type": "stream",
     "text": [
      "Received data: [{'text': 'Welcome To JomMakan Seating', 'rowI': 5, 'colI': 5}]\n",
      "Received data2: [{'text': 'Welcome To JomMakan Seating', 'rowI': 5, 'colI': 5}]\n"
     ]
    },
    {
     "name": "stderr",
     "output_type": "stream",
     "text": [
      "127.0.0.1 - - [01/Dec/2023 15:20:26] \"POST /generate_qr HTTP/1.1\" 200 -\n"
     ]
    },
    {
     "name": "stdout",
     "output_type": "stream",
     "text": [
      "Received data: [{'text': 'Welcome To JomMakan Seating', 'rowI': 5, 'colI': 5}]\n",
      "Received data2: [{'text': 'Welcome To JomMakan Seating', 'rowI': 5, 'colI': 5}]\n"
     ]
    },
    {
     "name": "stderr",
     "output_type": "stream",
     "text": [
      "127.0.0.1 - - [01/Dec/2023 15:21:21] \"POST /generate_qr HTTP/1.1\" 200 -\n"
     ]
    },
    {
     "name": "stdout",
     "output_type": "stream",
     "text": [
      "Received data: [{'text': 'Welcome To JomMakan Seating', 'rowI': 4, 'colI': 1}]\n",
      "Received data2: [{'text': 'Welcome To JomMakan Seating', 'rowI': 4, 'colI': 1}]\n"
     ]
    },
    {
     "name": "stderr",
     "output_type": "stream",
     "text": [
      "127.0.0.1 - - [01/Dec/2023 15:25:17] \"POST /generate_qr HTTP/1.1\" 200 -\n"
     ]
    },
    {
     "name": "stdout",
     "output_type": "stream",
     "text": [
      "Received data: [{'text': 'Welcome To JomMakan Seating', 'rowI': 5, 'colI': 5}]\n",
      "Received data2: [{'text': 'Welcome To JomMakan Seating', 'rowI': 5, 'colI': 5}]\n"
     ]
    },
    {
     "name": "stderr",
     "output_type": "stream",
     "text": [
      "127.0.0.1 - - [01/Dec/2023 15:26:34] \"POST /generate_qr HTTP/1.1\" 200 -\n"
     ]
    },
    {
     "name": "stdout",
     "output_type": "stream",
     "text": [
      "Received data: [{'text': 'Welcome To JomMakan Seating', 'rowI': 5, 'colI': 5}]\n",
      "Received data2: [{'text': 'Welcome To JomMakan Seating', 'rowI': 5, 'colI': 5}]\n"
     ]
    },
    {
     "name": "stderr",
     "output_type": "stream",
     "text": [
      "127.0.0.1 - - [01/Dec/2023 15:29:42] \"POST /generate_qr HTTP/1.1\" 200 -\n"
     ]
    },
    {
     "name": "stdout",
     "output_type": "stream",
     "text": [
      "Received data: [{'text': 'Welcome To JomMakan Seating', 'rowI': 5, 'colI': 2}]\n",
      "Received data2: [{'text': 'Welcome To JomMakan Seating', 'rowI': 5, 'colI': 2}]\n"
     ]
    },
    {
     "name": "stderr",
     "output_type": "stream",
     "text": [
      "127.0.0.1 - - [01/Dec/2023 15:34:54] \"POST /generate_qr HTTP/1.1\" 200 -\n"
     ]
    },
    {
     "name": "stdout",
     "output_type": "stream",
     "text": [
      "Received data: [{'text': 'Welcome To JomMakan Seating', 'rowI': 6, 'colI': 5}]\n",
      "Received data2: [{'text': 'Welcome To JomMakan Seating', 'rowI': 6, 'colI': 5}]\n"
     ]
    },
    {
     "name": "stderr",
     "output_type": "stream",
     "text": [
      "127.0.0.1 - - [01/Dec/2023 15:36:55] \"POST /generate_qr HTTP/1.1\" 200 -\n"
     ]
    },
    {
     "name": "stdout",
     "output_type": "stream",
     "text": [
      "Received data: [{'text': 'Welcome To JomMakan Seating', 'rowI': 5, 'colI': 4}]\n",
      "Received data2: [{'text': 'Welcome To JomMakan Seating', 'rowI': 5, 'colI': 4}]\n"
     ]
    },
    {
     "name": "stderr",
     "output_type": "stream",
     "text": [
      "127.0.0.1 - - [01/Dec/2023 15:39:34] \"POST /generate_qr HTTP/1.1\" 200 -\n"
     ]
    },
    {
     "name": "stdout",
     "output_type": "stream",
     "text": [
      "Received data: [{'text': 'Welcome To JomMakan Seating', 'rowI': 5, 'colI': 5}]\n",
      "Received data2: [{'text': 'Welcome To JomMakan Seating', 'rowI': 5, 'colI': 5}]\n"
     ]
    },
    {
     "name": "stderr",
     "output_type": "stream",
     "text": [
      "127.0.0.1 - - [01/Dec/2023 15:40:24] \"POST /generate_qr HTTP/1.1\" 200 -\n"
     ]
    },
    {
     "name": "stdout",
     "output_type": "stream",
     "text": [
      "Received data: [{'text': 'Welcome To JomMakan Seating', 'rowI': 6, 'colI': 5}]\n",
      "Received data2: [{'text': 'Welcome To JomMakan Seating', 'rowI': 6, 'colI': 5}]\n"
     ]
    },
    {
     "name": "stderr",
     "output_type": "stream",
     "text": [
      "127.0.0.1 - - [01/Dec/2023 22:02:42] \"POST /generate_qr HTTP/1.1\" 200 -\n"
     ]
    },
    {
     "name": "stdout",
     "output_type": "stream",
     "text": [
      "Received data: [{'text': 'Welcome To JomMakan Seating', 'rowI': 5, 'colI': 5}]\n",
      "Received data2: [{'text': 'Welcome To JomMakan Seating', 'rowI': 5, 'colI': 5}]\n"
     ]
    },
    {
     "name": "stderr",
     "output_type": "stream",
     "text": [
      "127.0.0.1 - - [02/Dec/2023 00:50:41] \"POST /generate_qr HTTP/1.1\" 200 -\n"
     ]
    },
    {
     "name": "stdout",
     "output_type": "stream",
     "text": [
      "Received data: [{'text': 'Welcome To JomMakan Seating', 'rowI': 5, 'colI': 5}]\n",
      "Received data2: [{'text': 'Welcome To JomMakan Seating', 'rowI': 5, 'colI': 5}]\n"
     ]
    },
    {
     "name": "stderr",
     "output_type": "stream",
     "text": [
      "127.0.0.1 - - [02/Dec/2023 01:01:23] \"POST /generate_qr HTTP/1.1\" 200 -\n"
     ]
    },
    {
     "name": "stdout",
     "output_type": "stream",
     "text": [
      "Received data: [{'text': 'Welcome To JomMakan Seating', 'rowI': 3, 'colI': 4}]\n",
      "Received data2: [{'text': 'Welcome To JomMakan Seating', 'rowI': 3, 'colI': 4}]\n"
     ]
    },
    {
     "name": "stderr",
     "output_type": "stream",
     "text": [
      "127.0.0.1 - - [02/Dec/2023 01:08:02] \"POST /generate_qr HTTP/1.1\" 200 -\n"
     ]
    },
    {
     "name": "stdout",
     "output_type": "stream",
     "text": [
      "Received data: [{'text': 'Welcome To JomMakan Seating', 'rowI': 3, 'colI': 5}]\n",
      "Received data2: [{'text': 'Welcome To JomMakan Seating', 'rowI': 3, 'colI': 5}]\n"
     ]
    },
    {
     "name": "stderr",
     "output_type": "stream",
     "text": [
      "127.0.0.1 - - [02/Dec/2023 01:09:08] \"POST /generate_qr HTTP/1.1\" 200 -\n"
     ]
    },
    {
     "name": "stdout",
     "output_type": "stream",
     "text": [
      "Received data: [{'text': 'Welcome To JomMakan Seating', 'rowI': 3, 'colI': 2}]\n",
      "Received data2: [{'text': 'Welcome To JomMakan Seating', 'rowI': 3, 'colI': 2}]\n"
     ]
    },
    {
     "name": "stderr",
     "output_type": "stream",
     "text": [
      "127.0.0.1 - - [02/Dec/2023 01:13:01] \"POST /generate_qr HTTP/1.1\" 200 -\n"
     ]
    },
    {
     "name": "stdout",
     "output_type": "stream",
     "text": [
      "Received data: [{'text': 'Welcome To JomMakan Seating', 'rowI': 3, 'colI': 4}]\n",
      "Received data2: [{'text': 'Welcome To JomMakan Seating', 'rowI': 3, 'colI': 4}]\n"
     ]
    },
    {
     "name": "stderr",
     "output_type": "stream",
     "text": [
      "127.0.0.1 - - [02/Dec/2023 01:16:36] \"POST /generate_qr HTTP/1.1\" 200 -\n"
     ]
    },
    {
     "name": "stdout",
     "output_type": "stream",
     "text": [
      "Received data: [{'text': 'Welcome To JomMakan Seating', 'rowI': 4, 'colI': 4}]\n",
      "Received data2: [{'text': 'Welcome To JomMakan Seating', 'rowI': 4, 'colI': 4}]\n"
     ]
    },
    {
     "name": "stderr",
     "output_type": "stream",
     "text": [
      "127.0.0.1 - - [02/Dec/2023 01:31:05] \"POST /generate_qr HTTP/1.1\" 200 -\n"
     ]
    },
    {
     "name": "stdout",
     "output_type": "stream",
     "text": [
      "Received data: [{'text': 'Welcome To JomMakan Seating', 'rowI': 5, 'colI': 1}, {'text': 'Welcome To JomMakan Seating', 'rowI': 6, 'colI': 2}]\n",
      "Received data2: [{'text': 'Welcome To JomMakan Seating', 'rowI': 5, 'colI': 1}, {'text': 'Welcome To JomMakan Seating', 'rowI': 6, 'colI': 2}]\n"
     ]
    },
    {
     "name": "stderr",
     "output_type": "stream",
     "text": [
      "127.0.0.1 - - [02/Dec/2023 01:45:57] \"POST /generate_qr HTTP/1.1\" 200 -\n"
     ]
    },
    {
     "name": "stdout",
     "output_type": "stream",
     "text": [
      "Received data: [{'text': 'Welcome To JomMakan Seating', 'rowI': 5, 'colI': 2}, {'text': 'Welcome To JomMakan Seating', 'rowI': 6, 'colI': 4}]\n",
      "Received data2: [{'text': 'Welcome To JomMakan Seating', 'rowI': 5, 'colI': 2}, {'text': 'Welcome To JomMakan Seating', 'rowI': 6, 'colI': 4}]\n"
     ]
    },
    {
     "name": "stderr",
     "output_type": "stream",
     "text": [
      "127.0.0.1 - - [02/Dec/2023 01:46:57] \"POST /generate_qr HTTP/1.1\" 200 -\n"
     ]
    },
    {
     "name": "stdout",
     "output_type": "stream",
     "text": [
      "Received data: [{'text': 'Welcome To JomMakan Seating', 'rowI': 5, 'colI': 6}]\n",
      "Received data2: [{'text': 'Welcome To JomMakan Seating', 'rowI': 5, 'colI': 6}]\n"
     ]
    },
    {
     "name": "stderr",
     "output_type": "stream",
     "text": [
      "127.0.0.1 - - [02/Dec/2023 01:49:56] \"POST /generate_qr HTTP/1.1\" 200 -\n"
     ]
    },
    {
     "name": "stdout",
     "output_type": "stream",
     "text": [
      "Received data: [{'text': 'Welcome To JomMakan Seating', 'rowI': 1, 'colI': 5}]\n",
      "Received data2: [{'text': 'Welcome To JomMakan Seating', 'rowI': 1, 'colI': 5}]\n"
     ]
    },
    {
     "name": "stderr",
     "output_type": "stream",
     "text": [
      "127.0.0.1 - - [02/Dec/2023 01:52:53] \"POST /generate_qr HTTP/1.1\" 200 -\n"
     ]
    },
    {
     "name": "stdout",
     "output_type": "stream",
     "text": [
      "Received data: [{'text': 'Welcome To JomMakan Seating', 'rowI': 5, 'colI': 6}]\n",
      "Received data2: [{'text': 'Welcome To JomMakan Seating', 'rowI': 5, 'colI': 6}]\n"
     ]
    },
    {
     "name": "stderr",
     "output_type": "stream",
     "text": [
      "127.0.0.1 - - [02/Dec/2023 01:55:59] \"POST /generate_qr HTTP/1.1\" 200 -\n"
     ]
    },
    {
     "name": "stdout",
     "output_type": "stream",
     "text": [
      "Received data: [{'text': 'Welcome To JomMakan Seating', 'rowI': 2, 'colI': 1}, {'text': 'Welcome To JomMakan Seating', 'rowI': 1, 'colI': 5}]\n",
      "Received data2: [{'text': 'Welcome To JomMakan Seating', 'rowI': 2, 'colI': 1}, {'text': 'Welcome To JomMakan Seating', 'rowI': 1, 'colI': 5}]\n"
     ]
    },
    {
     "name": "stderr",
     "output_type": "stream",
     "text": [
      "127.0.0.1 - - [02/Dec/2023 01:59:23] \"POST /generate_qr HTTP/1.1\" 200 -\n"
     ]
    },
    {
     "name": "stdout",
     "output_type": "stream",
     "text": [
      "Received data: [{'text': 'Welcome To JomMakan Seating', 'rowI': 3, 'colI': 6}]\n",
      "Received data2: [{'text': 'Welcome To JomMakan Seating', 'rowI': 3, 'colI': 6}]\n"
     ]
    },
    {
     "name": "stderr",
     "output_type": "stream",
     "text": [
      "127.0.0.1 - - [02/Dec/2023 02:01:40] \"POST /generate_qr HTTP/1.1\" 200 -\n"
     ]
    },
    {
     "name": "stdout",
     "output_type": "stream",
     "text": [
      "Received data: [{'text': 'Welcome To JomMakan Seating', 'rowI': 3, 'colI': 6}]\n",
      "Received data2: [{'text': 'Welcome To JomMakan Seating', 'rowI': 3, 'colI': 6}]\n"
     ]
    },
    {
     "name": "stderr",
     "output_type": "stream",
     "text": [
      "127.0.0.1 - - [02/Dec/2023 02:04:12] \"POST /generate_qr HTTP/1.1\" 200 -\n"
     ]
    },
    {
     "name": "stdout",
     "output_type": "stream",
     "text": [
      "Received data: [{'text': 'Welcome To JomMakan Seating', 'rowI': 3, 'colI': 6}]\n",
      "Received data2: [{'text': 'Welcome To JomMakan Seating', 'rowI': 3, 'colI': 6}]\n"
     ]
    },
    {
     "name": "stderr",
     "output_type": "stream",
     "text": [
      "127.0.0.1 - - [02/Dec/2023 02:04:26] \"POST /generate_qr HTTP/1.1\" 200 -\n"
     ]
    },
    {
     "name": "stdout",
     "output_type": "stream",
     "text": [
      "Received data: [{'text': 'Welcome To JomMakan Seating', 'rowI': 4, 'colI': 0}]\n",
      "Received data2: [{'text': 'Welcome To JomMakan Seating', 'rowI': 4, 'colI': 0}]\n"
     ]
    },
    {
     "name": "stderr",
     "output_type": "stream",
     "text": [
      "127.0.0.1 - - [02/Dec/2023 02:07:33] \"POST /generate_qr HTTP/1.1\" 200 -\n"
     ]
    },
    {
     "name": "stdout",
     "output_type": "stream",
     "text": [
      "Received data: [{'text': 'Welcome To JomMakan Seating', 'rowI': 3, 'colI': 4}]\n",
      "Received data2: [{'text': 'Welcome To JomMakan Seating', 'rowI': 3, 'colI': 4}]\n"
     ]
    },
    {
     "name": "stderr",
     "output_type": "stream",
     "text": [
      "127.0.0.1 - - [02/Dec/2023 02:14:18] \"POST /generate_qr HTTP/1.1\" 200 -\n"
     ]
    },
    {
     "name": "stdout",
     "output_type": "stream",
     "text": [
      "Received data: [{'text': 'Welcome To JomMakan Seating', 'rowI': 4, 'colI': 4}]\n",
      "Received data2: [{'text': 'Welcome To JomMakan Seating', 'rowI': 4, 'colI': 4}]\n"
     ]
    },
    {
     "name": "stderr",
     "output_type": "stream",
     "text": [
      "127.0.0.1 - - [02/Dec/2023 02:14:50] \"POST /generate_qr HTTP/1.1\" 200 -\n"
     ]
    },
    {
     "name": "stdout",
     "output_type": "stream",
     "text": [
      "Received data: [{'text': 'Welcome To JomMakan Seating', 'rowI': 8, 'colI': 5}]\n",
      "Received data2: [{'text': 'Welcome To JomMakan Seating', 'rowI': 8, 'colI': 5}]\n"
     ]
    }
   ],
   "source": [
    "from flask import Flask, request, send_file, jsonify\n",
    "import qrcode\n",
    "from io import BytesIO\n",
    "\n",
    "app = Flask(__name__)\n",
    "\n",
    "@app.route('/generate_qr', methods=['POST'])\n",
    "def generate_qr_code():\n",
    "    try:\n",
    "        # Get the data from the request\n",
    "        seats_list = request.json['data']\n",
    "\n",
    "        # Print received data for debugging\n",
    "        print(\"Received data:\", seats_list)\n",
    "\n",
    "        # Convert the list of maps to a string for QR code generation\n",
    "        data_str = str(seats_list)\n",
    "\n",
    "        # Generate QR code\n",
    "        qr = qrcode.QRCode(\n",
    "            version=1,\n",
    "            error_correction=qrcode.constants.ERROR_CORRECT_L,\n",
    "            box_size=10,\n",
    "            border=4,\n",
    "        )\n",
    "        qr.add_data(data_str)\n",
    "        print(\"Received data2:\", seats_list)\n",
    "        qr.make(fit=True)\n",
    "\n",
    "        img = qr.make_image(fill_color=\"black\", back_color=\"white\")\n",
    "\n",
    "        # Save the QR code as BytesIO\n",
    "        img_bytesio = BytesIO()\n",
    "        img.save(img_bytesio)\n",
    "        img_bytesio.seek(0)\n",
    "\n",
    "        # Provide a filename for the attachment\n",
    "        filename = 'example.png'\n",
    "\n",
    "        return send_file(img_bytesio, mimetype='image/png', as_attachment=True, download_name=filename)\n",
    "\n",
    "    except Exception as e:\n",
    "        return jsonify({\"success\": False, \"error\": str(e)})\n",
    "\n",
    "if __name__ == '__main__':\n",
    "    app.run(host='0.0.0.0', port=5000)\n"
   ]
  }
 ],
 "metadata": {
  "kernelspec": {
   "display_name": "Python 3.10.11 64-bit (microsoft store)",
   "language": "python",
   "name": "python3"
  },
  "language_info": {
   "codemirror_mode": {
    "name": "ipython",
    "version": 3
   },
   "file_extension": ".py",
   "mimetype": "text/x-python",
   "name": "python",
   "nbconvert_exporter": "python",
   "pygments_lexer": "ipython3",
   "version": "3.11.6"
  },
  "vscode": {
   "interpreter": {
    "hash": "06313117269366ed70cdce7d8187a548ff22a7c906280d0402a9e1533f05e11f"
   }
  }
 },
 "nbformat": 4,
 "nbformat_minor": 2
}
