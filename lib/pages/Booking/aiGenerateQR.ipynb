{
 "cells": [
  {
   "cell_type": "code",
   "execution_count": 1,
   "metadata": {},
   "outputs": [
    {
     "name": "stdout",
     "output_type": "stream",
     "text": [
      "^C\n",
      "Note: you may need to restart the kernel to use updated packages.\n"
     ]
    }
   ],
   "source": [
    "pip install Flask qrcode[pil]\n"
   ]
  },
  {
   "cell_type": "code",
   "execution_count": 1,
   "metadata": {},
   "outputs": [
    {
     "name": "stdout",
     "output_type": "stream",
     "text": [
      " * Serving Flask app '__main__'\n",
      " * Debug mode: off\n"
     ]
    },
    {
     "name": "stderr",
     "output_type": "stream",
     "text": [
      "WARNING: This is a development server. Do not use it in a production deployment. Use a production WSGI server instead.\n",
      " * Running on all addresses (0.0.0.0)\n",
      " * Running on http://127.0.0.1:5000\n",
      " * Running on http://192.168.100.9:5000\n",
      "Press CTRL+C to quit\n"
     ]
    },
    {
     "name": "stdout",
     "output_type": "stream",
     "text": [
      "Received data: [{'text': 'Welcome To JomMakan Seating', 'rowI': 5, 'colI': 6}]\n",
      "Received data2: [{'text': 'Welcome To JomMakan Seating', 'rowI': 5, 'colI': 6}]\n"
     ]
    },
    {
     "name": "stderr",
     "output_type": "stream",
     "text": [
      "127.0.0.1 - - [02/Dec/2023 17:29:20] \"POST /generate_qr HTTP/1.1\" 200 -\n",
      "127.0.0.1 - - [02/Dec/2023 17:30:14] \"POST /generate_qr HTTP/1.1\" 200 -\n"
     ]
    },
    {
     "name": "stdout",
     "output_type": "stream",
     "text": [
      "Received data: [{'text': 'Welcome To JomMakan Seating', 'rowI': 5, 'colI': 5}]\n",
      "Received data2: [{'text': 'Welcome To JomMakan Seating', 'rowI': 5, 'colI': 5}]\n"
     ]
    },
    {
     "name": "stderr",
     "output_type": "stream",
     "text": [
      "127.0.0.1 - - [02/Dec/2023 17:31:42] \"POST /generate_qr HTTP/1.1\" 200 -\n"
     ]
    },
    {
     "name": "stdout",
     "output_type": "stream",
     "text": [
      "Received data: [{'text': 'Welcome To JomMakan Seating', 'rowI': 3, 'colI': 2}]\n",
      "Received data2: [{'text': 'Welcome To JomMakan Seating', 'rowI': 3, 'colI': 2}]\n"
     ]
    },
    {
     "name": "stderr",
     "output_type": "stream",
     "text": [
      "127.0.0.1 - - [02/Dec/2023 17:32:05] \"POST /generate_qr HTTP/1.1\" 200 -\n"
     ]
    },
    {
     "name": "stdout",
     "output_type": "stream",
     "text": [
      "Received data: [{'text': 'Welcome To JomMakan Seating', 'rowI': 5, 'colI': 5}]\n",
      "Received data2: [{'text': 'Welcome To JomMakan Seating', 'rowI': 5, 'colI': 5}]\n"
     ]
    },
    {
     "name": "stderr",
     "output_type": "stream",
     "text": [
      "127.0.0.1 - - [02/Dec/2023 17:32:45] \"POST /generate_qr HTTP/1.1\" 200 -\n"
     ]
    },
    {
     "name": "stdout",
     "output_type": "stream",
     "text": [
      "Received data: [{'text': 'Welcome To JomMakan Seating', 'rowI': 5, 'colI': 5}]\n",
      "Received data2: [{'text': 'Welcome To JomMakan Seating', 'rowI': 5, 'colI': 5}]\n"
     ]
    },
    {
     "name": "stderr",
     "output_type": "stream",
     "text": [
      "127.0.0.1 - - [02/Dec/2023 17:42:16] \"POST /generate_qr HTTP/1.1\" 200 -\n"
     ]
    },
    {
     "name": "stdout",
     "output_type": "stream",
     "text": [
      "Received data: [{'text': 'Welcome To JomMakan Seating', 'rowI': 5, 'colI': 5}]\n",
      "Received data2: [{'text': 'Welcome To JomMakan Seating', 'rowI': 5, 'colI': 5}]\n"
     ]
    },
    {
     "name": "stderr",
     "output_type": "stream",
     "text": [
      "127.0.0.1 - - [02/Dec/2023 17:46:56] \"POST /generate_qr HTTP/1.1\" 200 -\n"
     ]
    },
    {
     "name": "stdout",
     "output_type": "stream",
     "text": [
      "Received data: [{'text': 'Welcome To JomMakan Seating', 'rowI': 9, 'colI': 0}]\n",
      "Received data2: [{'text': 'Welcome To JomMakan Seating', 'rowI': 9, 'colI': 0}]\n"
     ]
    },
    {
     "name": "stderr",
     "output_type": "stream",
     "text": [
      "127.0.0.1 - - [02/Dec/2023 17:49:41] \"POST /generate_qr HTTP/1.1\" 200 -\n"
     ]
    },
    {
     "name": "stdout",
     "output_type": "stream",
     "text": [
      "Received data: [{'text': 'Welcome To JomMakan Seating', 'rowI': 0, 'colI': 1}]\n",
      "Received data2: [{'text': 'Welcome To JomMakan Seating', 'rowI': 0, 'colI': 1}]\n"
     ]
    },
    {
     "name": "stderr",
     "output_type": "stream",
     "text": [
      "127.0.0.1 - - [02/Dec/2023 17:57:29] \"POST /generate_qr HTTP/1.1\" 200 -\n"
     ]
    },
    {
     "name": "stdout",
     "output_type": "stream",
     "text": [
      "Received data: [{'text': 'Welcome To JomMakan Seating', 'rowI': 9, 'colI': 6}]\n",
      "Received data2: [{'text': 'Welcome To JomMakan Seating', 'rowI': 9, 'colI': 6}]\n"
     ]
    },
    {
     "name": "stderr",
     "output_type": "stream",
     "text": [
      "127.0.0.1 - - [02/Dec/2023 18:00:09] \"POST /generate_qr HTTP/1.1\" 200 -\n"
     ]
    },
    {
     "name": "stdout",
     "output_type": "stream",
     "text": [
      "Received data: [{'text': 'Welcome To JomMakan Seating', 'rowI': 8, 'colI': 4}]\n",
      "Received data2: [{'text': 'Welcome To JomMakan Seating', 'rowI': 8, 'colI': 4}]\n"
     ]
    },
    {
     "name": "stderr",
     "output_type": "stream",
     "text": [
      "127.0.0.1 - - [02/Dec/2023 18:08:58] \"POST /generate_qr HTTP/1.1\" 200 -\n"
     ]
    },
    {
     "name": "stdout",
     "output_type": "stream",
     "text": [
      "Received data: [{'text': 'Welcome To JomMakan Seating', 'rowI': 6, 'colI': 0}]\n",
      "Received data2: [{'text': 'Welcome To JomMakan Seating', 'rowI': 6, 'colI': 0}]\n"
     ]
    },
    {
     "name": "stderr",
     "output_type": "stream",
     "text": [
      "127.0.0.1 - - [02/Dec/2023 18:17:50] \"POST /generate_qr HTTP/1.1\" 200 -\n"
     ]
    },
    {
     "name": "stdout",
     "output_type": "stream",
     "text": [
      "Received data: [{'text': 'Welcome To JomMakan Seating', 'rowI': 1, 'colI': 2}]\n",
      "Received data2: [{'text': 'Welcome To JomMakan Seating', 'rowI': 1, 'colI': 2}]\n"
     ]
    },
    {
     "name": "stderr",
     "output_type": "stream",
     "text": [
      "127.0.0.1 - - [02/Dec/2023 18:20:56] \"POST /generate_qr HTTP/1.1\" 200 -\n"
     ]
    },
    {
     "name": "stdout",
     "output_type": "stream",
     "text": [
      "Received data: [{'text': 'Welcome To JomMakan Seating', 'rowI': 6, 'colI': 0}]\n",
      "Received data2: [{'text': 'Welcome To JomMakan Seating', 'rowI': 6, 'colI': 0}]\n"
     ]
    },
    {
     "name": "stderr",
     "output_type": "stream",
     "text": [
      "127.0.0.1 - - [02/Dec/2023 18:25:09] \"POST /generate_qr HTTP/1.1\" 200 -\n"
     ]
    },
    {
     "name": "stdout",
     "output_type": "stream",
     "text": [
      "Received data: [{'text': 'Welcome To JomMakan Seating', 'rowI': 2, 'colI': 0}]\n",
      "Received data2: [{'text': 'Welcome To JomMakan Seating', 'rowI': 2, 'colI': 0}]\n"
     ]
    },
    {
     "name": "stderr",
     "output_type": "stream",
     "text": [
      "127.0.0.1 - - [02/Dec/2023 18:36:26] \"POST /generate_qr HTTP/1.1\" 200 -\n"
     ]
    },
    {
     "name": "stdout",
     "output_type": "stream",
     "text": [
      "Received data: [{'text': 'Welcome To JomMakan Seating', 'rowI': 5, 'colI': 5}]\n",
      "Received data2: [{'text': 'Welcome To JomMakan Seating', 'rowI': 5, 'colI': 5}]\n"
     ]
    },
    {
     "name": "stderr",
     "output_type": "stream",
     "text": [
      "127.0.0.1 - - [02/Dec/2023 18:37:37] \"POST /generate_qr HTTP/1.1\" 200 -\n"
     ]
    },
    {
     "name": "stdout",
     "output_type": "stream",
     "text": [
      "Received data: [{'text': 'Welcome To JomMakan Seating', 'rowI': 9, 'colI': 6}]\n",
      "Received data2: [{'text': 'Welcome To JomMakan Seating', 'rowI': 9, 'colI': 6}]\n"
     ]
    },
    {
     "name": "stderr",
     "output_type": "stream",
     "text": [
      "127.0.0.1 - - [02/Dec/2023 18:42:19] \"POST /generate_qr HTTP/1.1\" 200 -\n"
     ]
    },
    {
     "name": "stdout",
     "output_type": "stream",
     "text": [
      "Received data: [{'text': 'Welcome To JomMakan Seating', 'rowI': 7, 'colI': 5}]\n",
      "Received data2: [{'text': 'Welcome To JomMakan Seating', 'rowI': 7, 'colI': 5}]\n"
     ]
    },
    {
     "name": "stderr",
     "output_type": "stream",
     "text": [
      "127.0.0.1 - - [03/Dec/2023 00:18:53] \"POST /generate_qr HTTP/1.1\" 200 -\n"
     ]
    },
    {
     "name": "stdout",
     "output_type": "stream",
     "text": [
      "Received data: [{'text': 'Welcome To JomMakan Seating', 'rowI': 6, 'colI': 5}]\n",
      "Received data2: [{'text': 'Welcome To JomMakan Seating', 'rowI': 6, 'colI': 5}]\n"
     ]
    },
    {
     "name": "stderr",
     "output_type": "stream",
     "text": [
      "127.0.0.1 - - [03/Dec/2023 00:19:42] \"POST /generate_qr HTTP/1.1\" 200 -\n"
     ]
    },
    {
     "name": "stdout",
     "output_type": "stream",
     "text": [
      "Received data: [{'text': 'Welcome To JomMakan Seating', 'rowI': 6, 'colI': 4}]\n",
      "Received data2: [{'text': 'Welcome To JomMakan Seating', 'rowI': 6, 'colI': 4}]\n"
     ]
    },
    {
     "name": "stderr",
     "output_type": "stream",
     "text": [
      "127.0.0.1 - - [03/Dec/2023 00:41:36] \"POST /generate_qr HTTP/1.1\" 200 -\n"
     ]
    },
    {
     "name": "stdout",
     "output_type": "stream",
     "text": [
      "Received data: [{'text': 'Welcome To JomMakan Seating', 'rowI': 5, 'colI': 5}]\n",
      "Received data2: [{'text': 'Welcome To JomMakan Seating', 'rowI': 5, 'colI': 5}]\n"
     ]
    },
    {
     "name": "stderr",
     "output_type": "stream",
     "text": [
      "127.0.0.1 - - [03/Dec/2023 00:42:01] \"POST /generate_qr HTTP/1.1\" 200 -\n"
     ]
    },
    {
     "name": "stdout",
     "output_type": "stream",
     "text": [
      "Received data: [{'text': 'Welcome To JomMakan Seating', 'rowI': 7, 'colI': 5}]\n",
      "Received data2: [{'text': 'Welcome To JomMakan Seating', 'rowI': 7, 'colI': 5}]\n"
     ]
    },
    {
     "name": "stderr",
     "output_type": "stream",
     "text": [
      "127.0.0.1 - - [03/Dec/2023 00:54:05] \"POST /generate_qr HTTP/1.1\" 200 -\n"
     ]
    },
    {
     "name": "stdout",
     "output_type": "stream",
     "text": [
      "Received data: [{'text': 'Welcome To JomMakan Seating', 'rowI': 5, 'colI': 5}]\n",
      "Received data2: [{'text': 'Welcome To JomMakan Seating', 'rowI': 5, 'colI': 5}]\n"
     ]
    },
    {
     "name": "stderr",
     "output_type": "stream",
     "text": [
      "127.0.0.1 - - [03/Dec/2023 00:58:03] \"POST /generate_qr HTTP/1.1\" 200 -\n"
     ]
    },
    {
     "name": "stdout",
     "output_type": "stream",
     "text": [
      "Received data: [{'text': 'Welcome To JomMakan Seating', 'rowI': 3, 'colI': 0}, {'text': 'Welcome To JomMakan Seating', 'rowI': 3, 'colI': 1}]\n",
      "Received data2: [{'text': 'Welcome To JomMakan Seating', 'rowI': 3, 'colI': 0}, {'text': 'Welcome To JomMakan Seating', 'rowI': 3, 'colI': 1}]\n"
     ]
    },
    {
     "name": "stderr",
     "output_type": "stream",
     "text": [
      "127.0.0.1 - - [03/Dec/2023 01:01:53] \"POST /generate_qr HTTP/1.1\" 200 -\n"
     ]
    },
    {
     "name": "stdout",
     "output_type": "stream",
     "text": [
      "Received data: [{'text': 'Welcome To JomMakan Seating', 'rowI': 5, 'colI': 5}]\n",
      "Received data2: [{'text': 'Welcome To JomMakan Seating', 'rowI': 5, 'colI': 5}]\n"
     ]
    },
    {
     "name": "stderr",
     "output_type": "stream",
     "text": [
      "127.0.0.1 - - [03/Dec/2023 01:14:38] \"POST /generate_qr HTTP/1.1\" 200 -\n"
     ]
    },
    {
     "name": "stdout",
     "output_type": "stream",
     "text": [
      "Received data: [{'text': 'Welcome To JomMakan Seating', 'rowI': 9, 'colI': 6}]\n",
      "Received data2: [{'text': 'Welcome To JomMakan Seating', 'rowI': 9, 'colI': 6}]\n"
     ]
    },
    {
     "name": "stderr",
     "output_type": "stream",
     "text": [
      "127.0.0.1 - - [03/Dec/2023 01:25:14] \"POST /generate_qr HTTP/1.1\" 200 -\n"
     ]
    },
    {
     "name": "stdout",
     "output_type": "stream",
     "text": [
      "Received data: [{'text': 'Welcome To JomMakan Seating', 'rowI': 4, 'colI': 1}]\n",
      "Received data2: [{'text': 'Welcome To JomMakan Seating', 'rowI': 4, 'colI': 1}]\n"
     ]
    },
    {
     "name": "stderr",
     "output_type": "stream",
     "text": [
      "127.0.0.1 - - [03/Dec/2023 01:33:48] \"POST /generate_qr HTTP/1.1\" 200 -\n"
     ]
    },
    {
     "name": "stdout",
     "output_type": "stream",
     "text": [
      "Received data: [{'text': 'Welcome To JomMakan Seating', 'rowI': 7, 'colI': 2}]\n",
      "Received data2: [{'text': 'Welcome To JomMakan Seating', 'rowI': 7, 'colI': 2}]\n"
     ]
    },
    {
     "name": "stderr",
     "output_type": "stream",
     "text": [
      "127.0.0.1 - - [03/Dec/2023 01:40:36] \"POST /generate_qr HTTP/1.1\" 200 -\n"
     ]
    },
    {
     "name": "stdout",
     "output_type": "stream",
     "text": [
      "Received data: [{'text': 'Welcome To JomMakan Seating', 'rowI': 9, 'colI': 0}]\n",
      "Received data2: [{'text': 'Welcome To JomMakan Seating', 'rowI': 9, 'colI': 0}]\n"
     ]
    },
    {
     "name": "stderr",
     "output_type": "stream",
     "text": [
      "127.0.0.1 - - [03/Dec/2023 01:41:45] \"POST /generate_qr HTTP/1.1\" 200 -\n"
     ]
    },
    {
     "name": "stdout",
     "output_type": "stream",
     "text": [
      "Received data: [{'text': 'Welcome To JomMakan Seating', 'rowI': 4, 'colI': 0}]\n",
      "Received data2: [{'text': 'Welcome To JomMakan Seating', 'rowI': 4, 'colI': 0}]\n"
     ]
    },
    {
     "name": "stderr",
     "output_type": "stream",
     "text": [
      "127.0.0.1 - - [03/Dec/2023 01:43:41] \"POST /generate_qr HTTP/1.1\" 200 -\n"
     ]
    },
    {
     "name": "stdout",
     "output_type": "stream",
     "text": [
      "Received data: [{'text': 'Welcome To JomMakan Seating', 'rowI': 9, 'colI': 6}]\n",
      "Received data2: [{'text': 'Welcome To JomMakan Seating', 'rowI': 9, 'colI': 6}]\n"
     ]
    },
    {
     "name": "stderr",
     "output_type": "stream",
     "text": [
      "127.0.0.1 - - [03/Dec/2023 01:46:24] \"POST /generate_qr HTTP/1.1\" 200 -\n"
     ]
    },
    {
     "name": "stdout",
     "output_type": "stream",
     "text": [
      "Received data: [{'text': 'Welcome To JomMakan Seating', 'rowI': 3, 'colI': 5}]\n",
      "Received data2: [{'text': 'Welcome To JomMakan Seating', 'rowI': 3, 'colI': 5}]\n"
     ]
    }
   ],
   "source": [
    "from flask import Flask, request, send_file, jsonify\n",
    "import qrcode\n",
    "from io import BytesIO\n",
    "\n",
    "app = Flask(__name__)\n",
    "\n",
    "@app.route('/generate_qr', methods=['POST'])\n",
    "def generate_qr_code():\n",
    "    try:\n",
    "        # Get the data from the request\n",
    "        seats_list = request.json['data']\n",
    "\n",
    "        # Print received data for debugging\n",
    "        print(\"Received data:\", seats_list)\n",
    "\n",
    "        # Convert the list of maps to a string for QR code generation\n",
    "        data_str = str(seats_list)\n",
    "\n",
    "        # Generate QR code\n",
    "        qr = qrcode.QRCode(\n",
    "            version=1,\n",
    "            error_correction=qrcode.constants.ERROR_CORRECT_L,\n",
    "            box_size=10,\n",
    "            border=4,\n",
    "        )\n",
    "        qr.add_data(data_str)\n",
    "        print(\"Received data2:\", seats_list)\n",
    "        qr.make(fit=True)\n",
    "\n",
    "        img = qr.make_image(fill_color=\"black\", back_color=\"white\")\n",
    "\n",
    "        # Save the QR code as BytesIO\n",
    "        img_bytesio = BytesIO()\n",
    "        img.save(img_bytesio)\n",
    "        img_bytesio.seek(0)\n",
    "\n",
    "        # Provide a filename for the attachment\n",
    "        filename = 'example.png'\n",
    "\n",
    "        return send_file(img_bytesio, mimetype='image/png', as_attachment=True, download_name=filename)\n",
    "\n",
    "    except Exception as e:\n",
    "        return jsonify({\"success\": False, \"error\": str(e)})\n",
    "\n",
    "if __name__ == '__main__':\n",
    "    app.run(host='0.0.0.0', port=5000)\n"
   ]
  }
 ],
 "metadata": {
  "kernelspec": {
   "display_name": "Python 3.10.11 64-bit (microsoft store)",
   "language": "python",
   "name": "python3"
  },
  "language_info": {
   "codemirror_mode": {
    "name": "ipython",
    "version": 3
   },
   "file_extension": ".py",
   "mimetype": "text/x-python",
   "name": "python",
   "nbconvert_exporter": "python",
   "pygments_lexer": "ipython3",
   "version": "3.10.11"
  },
  "vscode": {
   "interpreter": {
    "hash": "06313117269366ed70cdce7d8187a548ff22a7c906280d0402a9e1533f05e11f"
   }
  }
 },
 "nbformat": 4,
 "nbformat_minor": 2
}
